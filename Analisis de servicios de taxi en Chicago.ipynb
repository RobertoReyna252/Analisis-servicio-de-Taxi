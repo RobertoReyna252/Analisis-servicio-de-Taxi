{
 "cells": [
  {
   "cell_type": "markdown",
   "metadata": {},
   "source": [
    "## Introduccion del Proyecto:\n",
    "\n",
    "En este proyecto, nos enfocamos en el análisis de datos de servicios de taxi en Chicago durante noviembre de 2017, abordando la actividad de las compañías de taxis y las tendencias de desplazamiento hacia distintos barrios. Antes de sumergirnos en el análisis exploratorio y las pruebas estadísticas, realizamos una etapa crucial de preparación de los datos, consistente en la verificación y eliminación de posibles duplicados y la identificación y manejo de datos nulos. Esta limpieza inicial asegura la integridad y fiabilidad de nuestro análisis posterior.\n",
    "\n",
    "Con tres conjuntos de datos en formato CSV a nuestra disposición, examinamos desde la frecuencia de viajes de las compañías de taxis hasta el promedio de viajes finalizados en diversos barrios, culminando en un estudio detallado sobre cómo las condiciones climáticas, particularmente los sábados lluviosos, pueden influir en la duración de los trayectos desde el Loop hasta el Aeropuerto Internacional O'Hare. A través de un minucioso análisis exploratorio, complementado por pruebas estadísticas como la prueba t de Student, nuestro objetivo es desentrañar las complejidades del transporte urbano en Chicago y el papel que juega el clima en la eficiencia del mismo."
   ]
  },
  {
   "cell_type": "markdown",
   "metadata": {},
   "source": [
    "### Paso 4. Análisis exploratorio de datos (Python)"
   ]
  },
  {
   "cell_type": "markdown",
   "metadata": {},
   "source": [
    "##### Carga de datasets e importacion de librerias"
   ]
  },
  {
   "cell_type": "code",
   "execution_count": 1,
   "metadata": {},
   "outputs": [],
   "source": [
    "#Carga de datasets e importacion de librerias\n",
    "import pandas as pd\n",
    "import matplotlib.pyplot as plt\n",
    "import scipy.stats as stats\n",
    "from scipy.stats import levene, ttest_ind"
   ]
  },
  {
   "cell_type": "code",
   "execution_count": 2,
   "metadata": {},
   "outputs": [],
   "source": [
    "# Importar los archivos CSV\n",
    "trips_data = pd.read_csv('/datasets/project_sql_result_01.csv')\n",
    "dropoff_data = pd.read_csv('/datasets/project_sql_result_04.csv')\n",
    "df = pd.read_csv('/datasets/project_sql_result_07.csv')"
   ]
  },
  {
   "cell_type": "markdown",
   "metadata": {},
   "source": [
    "#### Informacion de los datos y tipo de datos"
   ]
  },
  {
   "cell_type": "code",
   "execution_count": 3,
   "metadata": {},
   "outputs": [
    {
     "name": "stdout",
     "output_type": "stream",
     "text": [
      "<class 'pandas.core.frame.DataFrame'>\n",
      "RangeIndex: 64 entries, 0 to 63\n",
      "Data columns (total 2 columns):\n",
      " #   Column        Non-Null Count  Dtype \n",
      "---  ------        --------------  ----- \n",
      " 0   company_name  64 non-null     object\n",
      " 1   trips_amount  64 non-null     int64 \n",
      "dtypes: int64(1), object(1)\n",
      "memory usage: 1.1+ KB\n",
      "Datos de viajes de taxis:\n"
     ]
    },
    {
     "data": {
      "text/html": [
       "<div>\n",
       "<style scoped>\n",
       "    .dataframe tbody tr th:only-of-type {\n",
       "        vertical-align: middle;\n",
       "    }\n",
       "\n",
       "    .dataframe tbody tr th {\n",
       "        vertical-align: top;\n",
       "    }\n",
       "\n",
       "    .dataframe thead th {\n",
       "        text-align: right;\n",
       "    }\n",
       "</style>\n",
       "<table border=\"1\" class=\"dataframe\">\n",
       "  <thead>\n",
       "    <tr style=\"text-align: right;\">\n",
       "      <th></th>\n",
       "      <th>company_name</th>\n",
       "      <th>trips_amount</th>\n",
       "    </tr>\n",
       "  </thead>\n",
       "  <tbody>\n",
       "    <tr>\n",
       "      <th>0</th>\n",
       "      <td>Flash Cab</td>\n",
       "      <td>19558</td>\n",
       "    </tr>\n",
       "    <tr>\n",
       "      <th>1</th>\n",
       "      <td>Taxi Affiliation Services</td>\n",
       "      <td>11422</td>\n",
       "    </tr>\n",
       "    <tr>\n",
       "      <th>2</th>\n",
       "      <td>Medallion Leasing</td>\n",
       "      <td>10367</td>\n",
       "    </tr>\n",
       "    <tr>\n",
       "      <th>3</th>\n",
       "      <td>Yellow Cab</td>\n",
       "      <td>9888</td>\n",
       "    </tr>\n",
       "    <tr>\n",
       "      <th>4</th>\n",
       "      <td>Taxi Affiliation Service Yellow</td>\n",
       "      <td>9299</td>\n",
       "    </tr>\n",
       "  </tbody>\n",
       "</table>\n",
       "</div>"
      ],
      "text/plain": [
       "                      company_name  trips_amount\n",
       "0                        Flash Cab         19558\n",
       "1        Taxi Affiliation Services         11422\n",
       "2                Medallion Leasing         10367\n",
       "3                       Yellow Cab          9888\n",
       "4  Taxi Affiliation Service Yellow          9299"
      ]
     },
     "execution_count": 3,
     "metadata": {},
     "output_type": "execute_result"
    }
   ],
   "source": [
    "#Estudiar los datos del DataSet trips_data\n",
    "trips_data.info()\n",
    "print(\"Datos de viajes de taxis:\")\n",
    "trips_data.head()"
   ]
  },
  {
   "cell_type": "code",
   "execution_count": 4,
   "metadata": {},
   "outputs": [
    {
     "name": "stdout",
     "output_type": "stream",
     "text": [
      "<class 'pandas.core.frame.DataFrame'>\n",
      "RangeIndex: 94 entries, 0 to 93\n",
      "Data columns (total 2 columns):\n",
      " #   Column                 Non-Null Count  Dtype  \n",
      "---  ------                 --------------  -----  \n",
      " 0   dropoff_location_name  94 non-null     object \n",
      " 1   average_trips          94 non-null     float64\n",
      "dtypes: float64(1), object(1)\n",
      "memory usage: 1.6+ KB\n",
      "Datos de finalizaciones de viajes en barrios:\n"
     ]
    },
    {
     "data": {
      "text/html": [
       "<div>\n",
       "<style scoped>\n",
       "    .dataframe tbody tr th:only-of-type {\n",
       "        vertical-align: middle;\n",
       "    }\n",
       "\n",
       "    .dataframe tbody tr th {\n",
       "        vertical-align: top;\n",
       "    }\n",
       "\n",
       "    .dataframe thead th {\n",
       "        text-align: right;\n",
       "    }\n",
       "</style>\n",
       "<table border=\"1\" class=\"dataframe\">\n",
       "  <thead>\n",
       "    <tr style=\"text-align: right;\">\n",
       "      <th></th>\n",
       "      <th>dropoff_location_name</th>\n",
       "      <th>average_trips</th>\n",
       "    </tr>\n",
       "  </thead>\n",
       "  <tbody>\n",
       "    <tr>\n",
       "      <th>0</th>\n",
       "      <td>Loop</td>\n",
       "      <td>10727.466667</td>\n",
       "    </tr>\n",
       "    <tr>\n",
       "      <th>1</th>\n",
       "      <td>River North</td>\n",
       "      <td>9523.666667</td>\n",
       "    </tr>\n",
       "    <tr>\n",
       "      <th>2</th>\n",
       "      <td>Streeterville</td>\n",
       "      <td>6664.666667</td>\n",
       "    </tr>\n",
       "    <tr>\n",
       "      <th>3</th>\n",
       "      <td>West Loop</td>\n",
       "      <td>5163.666667</td>\n",
       "    </tr>\n",
       "    <tr>\n",
       "      <th>4</th>\n",
       "      <td>O'Hare</td>\n",
       "      <td>2546.900000</td>\n",
       "    </tr>\n",
       "  </tbody>\n",
       "</table>\n",
       "</div>"
      ],
      "text/plain": [
       "  dropoff_location_name  average_trips\n",
       "0                  Loop   10727.466667\n",
       "1           River North    9523.666667\n",
       "2         Streeterville    6664.666667\n",
       "3             West Loop    5163.666667\n",
       "4                O'Hare    2546.900000"
      ]
     },
     "execution_count": 4,
     "metadata": {},
     "output_type": "execute_result"
    }
   ],
   "source": [
    "#Estudiar los datos del DataSet dropoff_data\n",
    "dropoff_data.info()\n",
    "print(\"Datos de finalizaciones de viajes en barrios:\")\n",
    "dropoff_data.head()"
   ]
  },
  {
   "cell_type": "code",
   "execution_count": 5,
   "metadata": {},
   "outputs": [
    {
     "name": "stdout",
     "output_type": "stream",
     "text": [
      "<class 'pandas.core.frame.DataFrame'>\n",
      "RangeIndex: 1068 entries, 0 to 1067\n",
      "Data columns (total 3 columns):\n",
      " #   Column              Non-Null Count  Dtype  \n",
      "---  ------              --------------  -----  \n",
      " 0   start_ts            1068 non-null   object \n",
      " 1   weather_conditions  1068 non-null   object \n",
      " 2   duration_seconds    1068 non-null   float64\n",
      "dtypes: float64(1), object(2)\n",
      "memory usage: 25.2+ KB\n",
      "Datos df:\n"
     ]
    },
    {
     "data": {
      "text/html": [
       "<div>\n",
       "<style scoped>\n",
       "    .dataframe tbody tr th:only-of-type {\n",
       "        vertical-align: middle;\n",
       "    }\n",
       "\n",
       "    .dataframe tbody tr th {\n",
       "        vertical-align: top;\n",
       "    }\n",
       "\n",
       "    .dataframe thead th {\n",
       "        text-align: right;\n",
       "    }\n",
       "</style>\n",
       "<table border=\"1\" class=\"dataframe\">\n",
       "  <thead>\n",
       "    <tr style=\"text-align: right;\">\n",
       "      <th></th>\n",
       "      <th>start_ts</th>\n",
       "      <th>weather_conditions</th>\n",
       "      <th>duration_seconds</th>\n",
       "    </tr>\n",
       "  </thead>\n",
       "  <tbody>\n",
       "    <tr>\n",
       "      <th>0</th>\n",
       "      <td>2017-11-25 16:00:00</td>\n",
       "      <td>Good</td>\n",
       "      <td>2410.0</td>\n",
       "    </tr>\n",
       "    <tr>\n",
       "      <th>1</th>\n",
       "      <td>2017-11-25 14:00:00</td>\n",
       "      <td>Good</td>\n",
       "      <td>1920.0</td>\n",
       "    </tr>\n",
       "    <tr>\n",
       "      <th>2</th>\n",
       "      <td>2017-11-25 12:00:00</td>\n",
       "      <td>Good</td>\n",
       "      <td>1543.0</td>\n",
       "    </tr>\n",
       "    <tr>\n",
       "      <th>3</th>\n",
       "      <td>2017-11-04 10:00:00</td>\n",
       "      <td>Good</td>\n",
       "      <td>2512.0</td>\n",
       "    </tr>\n",
       "    <tr>\n",
       "      <th>4</th>\n",
       "      <td>2017-11-11 07:00:00</td>\n",
       "      <td>Good</td>\n",
       "      <td>1440.0</td>\n",
       "    </tr>\n",
       "  </tbody>\n",
       "</table>\n",
       "</div>"
      ],
      "text/plain": [
       "              start_ts weather_conditions  duration_seconds\n",
       "0  2017-11-25 16:00:00               Good            2410.0\n",
       "1  2017-11-25 14:00:00               Good            1920.0\n",
       "2  2017-11-25 12:00:00               Good            1543.0\n",
       "3  2017-11-04 10:00:00               Good            2512.0\n",
       "4  2017-11-11 07:00:00               Good            1440.0"
      ]
     },
     "execution_count": 5,
     "metadata": {},
     "output_type": "execute_result"
    }
   ],
   "source": [
    "#Estudiar los datos del DataSet df\n",
    "df.info()\n",
    "print(\"Datos df:\")\n",
    "df.head()"
   ]
  },
  {
   "cell_type": "code",
   "execution_count": 6,
   "metadata": {},
   "outputs": [
    {
     "name": "stdout",
     "output_type": "stream",
     "text": [
      "\n",
      "Tipos de datos de los datos de viajes de taxis:\n"
     ]
    },
    {
     "data": {
      "text/html": [
       "<div>\n",
       "<style scoped>\n",
       "    .dataframe tbody tr th:only-of-type {\n",
       "        vertical-align: middle;\n",
       "    }\n",
       "\n",
       "    .dataframe tbody tr th {\n",
       "        vertical-align: top;\n",
       "    }\n",
       "\n",
       "    .dataframe thead th {\n",
       "        text-align: right;\n",
       "    }\n",
       "</style>\n",
       "<table border=\"1\" class=\"dataframe\">\n",
       "  <thead>\n",
       "    <tr style=\"text-align: right;\">\n",
       "      <th></th>\n",
       "      <th>trips_amount</th>\n",
       "    </tr>\n",
       "  </thead>\n",
       "  <tbody>\n",
       "    <tr>\n",
       "      <th>count</th>\n",
       "      <td>64.000000</td>\n",
       "    </tr>\n",
       "    <tr>\n",
       "      <th>mean</th>\n",
       "      <td>2145.484375</td>\n",
       "    </tr>\n",
       "    <tr>\n",
       "      <th>std</th>\n",
       "      <td>3812.310186</td>\n",
       "    </tr>\n",
       "    <tr>\n",
       "      <th>min</th>\n",
       "      <td>2.000000</td>\n",
       "    </tr>\n",
       "    <tr>\n",
       "      <th>25%</th>\n",
       "      <td>20.750000</td>\n",
       "    </tr>\n",
       "    <tr>\n",
       "      <th>50%</th>\n",
       "      <td>178.500000</td>\n",
       "    </tr>\n",
       "    <tr>\n",
       "      <th>75%</th>\n",
       "      <td>2106.500000</td>\n",
       "    </tr>\n",
       "    <tr>\n",
       "      <th>max</th>\n",
       "      <td>19558.000000</td>\n",
       "    </tr>\n",
       "  </tbody>\n",
       "</table>\n",
       "</div>"
      ],
      "text/plain": [
       "       trips_amount\n",
       "count     64.000000\n",
       "mean    2145.484375\n",
       "std     3812.310186\n",
       "min        2.000000\n",
       "25%       20.750000\n",
       "50%      178.500000\n",
       "75%     2106.500000\n",
       "max    19558.000000"
      ]
     },
     "execution_count": 6,
     "metadata": {},
     "output_type": "execute_result"
    }
   ],
   "source": [
    "# Asegurarse de que los tipos de datos sean correctos del dataset trips_data\n",
    "print(\"\\nTipos de datos de los datos de viajes de taxis:\") \n",
    "trips_data.describe()"
   ]
  },
  {
   "cell_type": "code",
   "execution_count": 7,
   "metadata": {},
   "outputs": [
    {
     "name": "stdout",
     "output_type": "stream",
     "text": [
      "\n",
      "Tipos de datos de los datos de finalizaciones de viajes en barrios:\n"
     ]
    },
    {
     "data": {
      "text/html": [
       "<div>\n",
       "<style scoped>\n",
       "    .dataframe tbody tr th:only-of-type {\n",
       "        vertical-align: middle;\n",
       "    }\n",
       "\n",
       "    .dataframe tbody tr th {\n",
       "        vertical-align: top;\n",
       "    }\n",
       "\n",
       "    .dataframe thead th {\n",
       "        text-align: right;\n",
       "    }\n",
       "</style>\n",
       "<table border=\"1\" class=\"dataframe\">\n",
       "  <thead>\n",
       "    <tr style=\"text-align: right;\">\n",
       "      <th></th>\n",
       "      <th>average_trips</th>\n",
       "    </tr>\n",
       "  </thead>\n",
       "  <tbody>\n",
       "    <tr>\n",
       "      <th>count</th>\n",
       "      <td>94.000000</td>\n",
       "    </tr>\n",
       "    <tr>\n",
       "      <th>mean</th>\n",
       "      <td>599.953728</td>\n",
       "    </tr>\n",
       "    <tr>\n",
       "      <th>std</th>\n",
       "      <td>1714.591098</td>\n",
       "    </tr>\n",
       "    <tr>\n",
       "      <th>min</th>\n",
       "      <td>1.800000</td>\n",
       "    </tr>\n",
       "    <tr>\n",
       "      <th>25%</th>\n",
       "      <td>14.266667</td>\n",
       "    </tr>\n",
       "    <tr>\n",
       "      <th>50%</th>\n",
       "      <td>52.016667</td>\n",
       "    </tr>\n",
       "    <tr>\n",
       "      <th>75%</th>\n",
       "      <td>298.858333</td>\n",
       "    </tr>\n",
       "    <tr>\n",
       "      <th>max</th>\n",
       "      <td>10727.466667</td>\n",
       "    </tr>\n",
       "  </tbody>\n",
       "</table>\n",
       "</div>"
      ],
      "text/plain": [
       "       average_trips\n",
       "count      94.000000\n",
       "mean      599.953728\n",
       "std      1714.591098\n",
       "min         1.800000\n",
       "25%        14.266667\n",
       "50%        52.016667\n",
       "75%       298.858333\n",
       "max     10727.466667"
      ]
     },
     "execution_count": 7,
     "metadata": {},
     "output_type": "execute_result"
    }
   ],
   "source": [
    "# Asegurarse de que los tipos de datos sean correctos del dataset dropoff_data\n",
    "print(\"\\nTipos de datos de los datos de finalizaciones de viajes en barrios:\")\n",
    "dropoff_data.describe()"
   ]
  },
  {
   "cell_type": "code",
   "execution_count": 8,
   "metadata": {},
   "outputs": [
    {
     "data": {
      "text/html": [
       "<div>\n",
       "<style scoped>\n",
       "    .dataframe tbody tr th:only-of-type {\n",
       "        vertical-align: middle;\n",
       "    }\n",
       "\n",
       "    .dataframe tbody tr th {\n",
       "        vertical-align: top;\n",
       "    }\n",
       "\n",
       "    .dataframe thead th {\n",
       "        text-align: right;\n",
       "    }\n",
       "</style>\n",
       "<table border=\"1\" class=\"dataframe\">\n",
       "  <thead>\n",
       "    <tr style=\"text-align: right;\">\n",
       "      <th></th>\n",
       "      <th>duration_seconds</th>\n",
       "    </tr>\n",
       "  </thead>\n",
       "  <tbody>\n",
       "    <tr>\n",
       "      <th>count</th>\n",
       "      <td>1068.000000</td>\n",
       "    </tr>\n",
       "    <tr>\n",
       "      <th>mean</th>\n",
       "      <td>2071.731273</td>\n",
       "    </tr>\n",
       "    <tr>\n",
       "      <th>std</th>\n",
       "      <td>769.461125</td>\n",
       "    </tr>\n",
       "    <tr>\n",
       "      <th>min</th>\n",
       "      <td>0.000000</td>\n",
       "    </tr>\n",
       "    <tr>\n",
       "      <th>25%</th>\n",
       "      <td>1438.250000</td>\n",
       "    </tr>\n",
       "    <tr>\n",
       "      <th>50%</th>\n",
       "      <td>1980.000000</td>\n",
       "    </tr>\n",
       "    <tr>\n",
       "      <th>75%</th>\n",
       "      <td>2580.000000</td>\n",
       "    </tr>\n",
       "    <tr>\n",
       "      <th>max</th>\n",
       "      <td>7440.000000</td>\n",
       "    </tr>\n",
       "  </tbody>\n",
       "</table>\n",
       "</div>"
      ],
      "text/plain": [
       "       duration_seconds\n",
       "count       1068.000000\n",
       "mean        2071.731273\n",
       "std          769.461125\n",
       "min            0.000000\n",
       "25%         1438.250000\n",
       "50%         1980.000000\n",
       "75%         2580.000000\n",
       "max         7440.000000"
      ]
     },
     "execution_count": 8,
     "metadata": {},
     "output_type": "execute_result"
    }
   ],
   "source": [
    "# Asegurarse de que los tipos de datos sean correctos del dataset df\n",
    "df.describe()"
   ]
  },
  {
   "cell_type": "markdown",
   "metadata": {},
   "source": [
    "#### Verificando datos nulos en los 3 Datasets"
   ]
  },
  {
   "cell_type": "code",
   "execution_count": 9,
   "metadata": {},
   "outputs": [
    {
     "name": "stdout",
     "output_type": "stream",
     "text": [
      "Datos nulos en trips_data:\n",
      "company_name    0\n",
      "trips_amount    0\n",
      "dtype: int64\n",
      "\n",
      "Datos nulos en dropoff_data:\n",
      "dropoff_location_name    0\n",
      "average_trips            0\n",
      "dtype: int64\n",
      "\n",
      "Datos nulos en df:\n",
      "start_ts              0\n",
      "weather_conditions    0\n",
      "duration_seconds      0\n",
      "dtype: int64\n"
     ]
    }
   ],
   "source": [
    "# Verificando datos nulos en trips_data\n",
    "print(\"Datos nulos en trips_data:\")\n",
    "print(trips_data.isnull().sum())\n",
    "\n",
    "# Verificando datos nulos en dropoff_data\n",
    "print(\"\\nDatos nulos en dropoff_data:\")\n",
    "print(dropoff_data.isnull().sum())\n",
    "\n",
    "# Verificando datos nulos en df\n",
    "print(\"\\nDatos nulos en df:\")\n",
    "print(df.isnull().sum())"
   ]
  },
  {
   "cell_type": "markdown",
   "metadata": {},
   "source": [
    "#### Revisando Duplicados"
   ]
  },
  {
   "cell_type": "code",
   "execution_count": 10,
   "metadata": {},
   "outputs": [
    {
     "name": "stdout",
     "output_type": "stream",
     "text": [
      "Numero de Duplicados son: 0\n"
     ]
    }
   ],
   "source": [
    "#Buscando duplicados del DataFrame trips_data\n",
    "# Para verificar y contar las filas duplicadas en el DataFrame:\n",
    "number_of_duplicates = trips_data.duplicated().sum()\n",
    "\n",
    "# Imprime el número de filas duplicadas\n",
    "print(f\"Numero de Duplicados son: {number_of_duplicates}\")"
   ]
  },
  {
   "cell_type": "code",
   "execution_count": 11,
   "metadata": {},
   "outputs": [
    {
     "name": "stdout",
     "output_type": "stream",
     "text": [
      "Numero de Duplicados son: 0\n"
     ]
    }
   ],
   "source": [
    "#Buscando duplicados del DataFrame dropoff_data\n",
    "# Para verificar y contar las filas duplicadas en el DataFrame:\n",
    "number_of_duplicates = dropoff_data.duplicated().sum()\n",
    "\n",
    "# Imprime el número de filas duplicadas\n",
    "print(f\"Numero de Duplicados son: {number_of_duplicates}\")"
   ]
  },
  {
   "cell_type": "code",
   "execution_count": 12,
   "metadata": {},
   "outputs": [
    {
     "name": "stdout",
     "output_type": "stream",
     "text": [
      "Numero total de filas antes de eliminar duplicados: 1068\n",
      "Numero total de filas después de eliminar duplicados: 871\n",
      "Numero de filas eliminadas: 197\n"
     ]
    }
   ],
   "source": [
    "# Calcular el número de filas duplicadas en df\n",
    "number_of_duplicates = df.duplicated().sum()\n",
    "\n",
    "# Eliminar filas duplicadas del DataFrame df\n",
    "df_clean = df.drop_duplicates()\n",
    "\n",
    "# Calcular cuántas filas se eliminaron\n",
    "rows_removed = len(df) - len(df_clean)\n",
    "\n",
    "# Verificar el número de filas antes y después de eliminar duplicados para confirmar\n",
    "print(f\"Numero total de filas antes de eliminar duplicados: {len(df)}\")\n",
    "print(f\"Numero total de filas después de eliminar duplicados: {len(df_clean)}\")\n",
    "print(f\"Numero de filas eliminadas: {rows_removed}\")\n",
    "\n"
   ]
  },
  {
   "cell_type": "code",
   "execution_count": 13,
   "metadata": {},
   "outputs": [
    {
     "name": "stdout",
     "output_type": "stream",
     "text": [
      "Numero de duplicados restantes en df_clean: 0\n"
     ]
    }
   ],
   "source": [
    "# Verificar si aún hay filas duplicadas en df_clean\n",
    "remaining_duplicates = df_clean.duplicated().sum()\n",
    "\n",
    "# Imprimir el número de duplicados restantes\n",
    "print(f\"Numero de duplicados restantes en df_clean: {remaining_duplicates}\")\n"
   ]
  },
  {
   "cell_type": "markdown",
   "metadata": {},
   "source": [
    "#### Descripcion de lo observado\n",
    "\n",
    "###### Datos Nulos\n",
    "\n",
    "trips_data, dropoff_data y df no contienen datos nulos en ninguna de sus columnas. Esto indica que estas partes del dataset están completas y no requieren imputación o eliminación de filas debido a la falta de datos.\n",
    "\n",
    "###### Duplicados\n",
    "\n",
    "trips_data y dropoff_data no tienen filas duplicadas, lo que indica que cada entrada en estos datasets es única. Esto es ideal para análisis que requieren contar viajes o comparar volúmenes de viaje entre diferentes compañías o destinos de bajada, ya que no hay inflación artificial de los conteos debido a duplicados.\n",
    "df inicialmente tenía 1068 filas, de las cuales 197 eran duplicados, dejando 871 filas después de la limpieza. La eliminación de estas filas duplicadas es un paso crítico para garantizar la precisión de cualquier análisis temporal o de condiciones climáticas, como la prueba de hipótesis sobre la duración de los viajes en función del clima. La presencia de duplicados podría haber distorsionado tales análisis, ya que los duplicados podrían sesgar los resultados al sobrerrepresentar ciertos viajes o condiciones. Después de la limpieza, la confirmación de que no quedan duplicados asegura la fiabilidad de los datos para el analisis."
   ]
  },
  {
   "cell_type": "markdown",
   "metadata": {},
   "source": [
    "#### los 10 principales barrios"
   ]
  },
  {
   "cell_type": "code",
   "execution_count": 14,
   "metadata": {},
   "outputs": [
    {
     "name": "stdout",
     "output_type": "stream",
     "text": [
      "Los 10 principales barrios en términos de finalización del recorrido:\n"
     ]
    },
    {
     "data": {
      "text/html": [
       "<div>\n",
       "<style scoped>\n",
       "    .dataframe tbody tr th:only-of-type {\n",
       "        vertical-align: middle;\n",
       "    }\n",
       "\n",
       "    .dataframe tbody tr th {\n",
       "        vertical-align: top;\n",
       "    }\n",
       "\n",
       "    .dataframe thead th {\n",
       "        text-align: right;\n",
       "    }\n",
       "</style>\n",
       "<table border=\"1\" class=\"dataframe\">\n",
       "  <thead>\n",
       "    <tr style=\"text-align: right;\">\n",
       "      <th></th>\n",
       "      <th>dropoff_location_name</th>\n",
       "      <th>average_trips</th>\n",
       "    </tr>\n",
       "  </thead>\n",
       "  <tbody>\n",
       "    <tr>\n",
       "      <th>0</th>\n",
       "      <td>Loop</td>\n",
       "      <td>10727.466667</td>\n",
       "    </tr>\n",
       "    <tr>\n",
       "      <th>1</th>\n",
       "      <td>River North</td>\n",
       "      <td>9523.666667</td>\n",
       "    </tr>\n",
       "    <tr>\n",
       "      <th>2</th>\n",
       "      <td>Streeterville</td>\n",
       "      <td>6664.666667</td>\n",
       "    </tr>\n",
       "    <tr>\n",
       "      <th>3</th>\n",
       "      <td>West Loop</td>\n",
       "      <td>5163.666667</td>\n",
       "    </tr>\n",
       "    <tr>\n",
       "      <th>4</th>\n",
       "      <td>O'Hare</td>\n",
       "      <td>2546.900000</td>\n",
       "    </tr>\n",
       "    <tr>\n",
       "      <th>5</th>\n",
       "      <td>Lake View</td>\n",
       "      <td>2420.966667</td>\n",
       "    </tr>\n",
       "    <tr>\n",
       "      <th>6</th>\n",
       "      <td>Grant Park</td>\n",
       "      <td>2068.533333</td>\n",
       "    </tr>\n",
       "    <tr>\n",
       "      <th>7</th>\n",
       "      <td>Museum Campus</td>\n",
       "      <td>1510.000000</td>\n",
       "    </tr>\n",
       "    <tr>\n",
       "      <th>8</th>\n",
       "      <td>Gold Coast</td>\n",
       "      <td>1364.233333</td>\n",
       "    </tr>\n",
       "    <tr>\n",
       "      <th>9</th>\n",
       "      <td>Sheffield &amp; DePaul</td>\n",
       "      <td>1259.766667</td>\n",
       "    </tr>\n",
       "  </tbody>\n",
       "</table>\n",
       "</div>"
      ],
      "text/plain": [
       "  dropoff_location_name  average_trips\n",
       "0                  Loop   10727.466667\n",
       "1           River North    9523.666667\n",
       "2         Streeterville    6664.666667\n",
       "3             West Loop    5163.666667\n",
       "4                O'Hare    2546.900000\n",
       "5             Lake View    2420.966667\n",
       "6            Grant Park    2068.533333\n",
       "7         Museum Campus    1510.000000\n",
       "8            Gold Coast    1364.233333\n",
       "9    Sheffield & DePaul    1259.766667"
      ]
     },
     "execution_count": 14,
     "metadata": {},
     "output_type": "execute_result"
    }
   ],
   "source": [
    "# Identificar los 10 principales barrios en términos de finalización del recorrido\n",
    "top_10_dropoff = dropoff_data.nlargest(10, 'average_trips')\n",
    "print(\"Los 10 principales barrios en términos de finalización del recorrido:\")\n",
    "top_10_dropoff"
   ]
  },
  {
   "cell_type": "markdown",
   "metadata": {},
   "source": [
    "#### Top 10 Empresas de Taxis por Número de Viajes"
   ]
  },
  {
   "cell_type": "code",
   "execution_count": 15,
   "metadata": {
    "scrolled": false
   },
   "outputs": [
    {
     "data": {
      "image/png": "[encoded data removed]",
      "text/plain": [
       "<Figure size 1080x432 with 1 Axes>"
      ]
     },
     "metadata": {
      "needs_background": "light"
     },
     "output_type": "display_data"
    }
   ],
   "source": [
    "# Ordenar los datos por 'trips_amount' en orden descendente\n",
    "trips_data_sorted = trips_data.sort_values(by='trips_amount', ascending=False)\n",
    "\n",
    "# Seleccionar los top 10\n",
    "top10_trips_data = trips_data_sorted.head(10)\n",
    "\n",
    "# Hacer el gráfico de barras para los top 10\n",
    "plt.figure(figsize=(15,6))\n",
    "plt.bar(top10_trips_data['company_name'], top10_trips_data['trips_amount'])\n",
    "plt.xlabel('Empresa de Taxis')\n",
    "plt.ylabel('Número de Viajes')\n",
    "plt.title('Top 10 Empresas de Taxis por Número de Viajes')\n",
    "plt.xticks(rotation=45, ha='right')\n",
    "plt.tight_layout()\n",
    "plt.show()"
   ]
  },
  {
   "cell_type": "markdown",
   "metadata": {},
   "source": [
    "##### Conclusiones Basadas en el Gráfico de Número de Viajes por Empresa de Taxis\n",
    "Dominancia de Ciertas Empresas: La primera barra es la más alta, indicando que la empresa FLASH CAB domina el mercado con el mayor número de viajes realizados. Esto podría reflejar una gran cuota de mercado, una sólida base de clientes o una mayor disponibilidad de vehículos.\n",
    "\n",
    "Disminución Rápida: Hay una disminución rápida en el número de viajes a medida que nos movemos de izquierda a derecha a través de las empresas. Las primeras empresas parecen tener un número de viajes sustancialmente más alto que las que siguen, lo que podría indicar un mercado competitivo donde unas pocas empresas tienen un control importante.\n",
    "\n",
    "Diversidad de Competidores: La presencia de muchas barras refleja un mercado diverso con numerosas empresas de taxis en operación. La variabilidad en el número de viajes puede ser un indicador de diferencias en la capacidad, la popularidad o la preferencia de los clientes entre estas empresas.\n",
    "\n",
    "Competencia y Consolidación: El mercado de taxis podría estar altamente consolidado en torno a unas pocas empresas principales, con una larga cola de competidores más pequeños que comparten una porción mucho menor del total de viajes.\n",
    "\n",
    "##### Explicación de Resultados\n",
    "\n",
    "\n",
    "Posicionamiento en el Mercado: Las empresas en la parte izquierda del gráfico pueden tener una mejor posición en el mercado debido a una variedad de factores, incluyendo mayor reconocimiento de marca, una red de conductores más extensa, o estrategias de marketing más efectivas.\n",
    "\n",
    "Barreras de Entrada y Crecimiento: Para las empresas de taxis que aparecen con menos viajes, puede haber barreras de entrada más significativas o dificultades para escalar sus operaciones en un mercado posiblemente saturado.\n"
   ]
  },
  {
   "cell_type": "markdown",
   "metadata": {},
   "source": [
    "#### Los 10 barrios principales por número de finalizaciones"
   ]
  },
  {
   "cell_type": "code",
   "execution_count": 16,
   "metadata": {},
   "outputs": [
    {
     "data": {
      "image/png": "[encoded data removed]",
      "text/plain": [
       "<Figure size 720x432 with 1 Axes>"
      ]
     },
     "metadata": {
      "needs_background": "light"
     },
     "output_type": "display_data"
    }
   ],
   "source": [
    "# Hacer gráficos: los 10 barrios principales por número de finalizaciones\n",
    "plt.figure(figsize=(10, 6))\n",
    "plt.bar(top_10_dropoff['dropoff_location_name'], top_10_dropoff['average_trips'])\n",
    "plt.xlabel('Barrio')\n",
    "plt.ylabel('Promedio de Viajes')\n",
    "plt.title('Top 10 Barrios por Promedio de Finalizaciones de Viaje')\n",
    "plt.xticks(rotation=45, ha='right')\n",
    "plt.tight_layout()\n",
    "plt.show()"
   ]
  },
  {
   "cell_type": "markdown",
   "metadata": {},
   "source": [
    "##### Conclusiones Basadas en el Gráfico \"Top 10 Barrios por Promedio de Finalizaciones de Viaje\".\n",
    "\n",
    "\n",
    "Distribución de finalizaciones de viaje: El barrio listado en primer lugar, que parece ser \"Loop\", tiene la mayor cantidad de finalizaciones de viaje promedio, lo cual indica que es el destino más popular o más frecuentado en comparación con los otros barrios mostrados. Esto podría ser debido a que el Loop es un centro comercial, financiero o de transporte clave en la ciudad.\n",
    "\n",
    "Disminución progresiva: Hay una disminución progresiva en el número promedio de finalizaciones de viaje desde el barrio más popular hasta el décimo barrio en la lista. Esto podría sugerir que hay una concentración de actividades o una demanda más alta de servicios de transporte en los primeros barrios de la lista.\n",
    "\n",
    "Comparación entre barrios: Los barrios de \"River North\", \"Streeterville\", y \"West Loop\" siguen al Loop en términos de la cantidad promedio de finalizaciones de viaje, pero con una diferencia notable. Esto puede indicar que, aunque también son destinos importantes, la demanda de viajes es significativamente menor en comparación con el Loop.\n",
    "\n",
    "Diferencias menores entre otros barrios: Entre los barrios de \"Lake View\" hasta \"Sheffield & DePaul\", la diferencia en el número promedio de finalizaciones de viaje es menos pronunciada. Esto sugiere que la distribución de la finalización de viajes es más uniforme entre estos barrios.\n",
    "\n",
    "##### Explicación de Resultados\n",
    "\n",
    "Centricidad de Viajes: Los resultados reflejan una posible tendencia de centricidad en los viajes, donde ciertos barrios actúan como nodos principales, posiblemente debido a la presencia de importantes nodos de transporte, áreas comerciales, o sitios de interés.\n",
    "\n",
    "Planificación Urbana y Transporte: Esta información puede ser valiosa para la planificación urbana y para las compañías de transporte al determinar dónde podrían necesitar más recursos o infraestructura para manejar el volumen de pasajeros."
   ]
  },
  {
   "cell_type": "markdown",
   "metadata": {},
   "source": [
    "### Paso 5. Prueba de hipótesis (Python)\n",
    "\n",
    "Prueba la hipótesis:\n",
    "\n",
    "\"La duración promedio de los viajes desde el Loop hasta el Aeropuerto Internacional O'Hare cambia los sábados lluviosos\".\n"
   ]
  },
  {
   "cell_type": "code",
   "execution_count": 17,
   "metadata": {},
   "outputs": [
    {
     "name": "stdout",
     "output_type": "stream",
     "text": [
      "Levene's test statistic (filtered): 0.06841854133288972, P-value: 0.7937159376563715\n",
      "T-statistic (filtered): -6.036609562343036, P-value: 2.3363796620667466e-09\n"
     ]
    }
   ],
   "source": [
    "# Creando df_clean como una copia independiente directamente después de eliminar duplicados\n",
    "df_clean = df.drop_duplicates().copy()\n",
    "\n",
    "# Convertir 'start_ts' a datetime sin advertencias\n",
    "df_clean.loc[:, 'start_ts'] = pd.to_datetime(df_clean.loc[:, 'start_ts'])\n",
    "\n",
    "# Crear y asignar 'day_of_week' sin advertencias\n",
    "df_clean.loc[:, 'day_of_week'] = df_clean.loc[:, 'start_ts'].dt.dayofweek  # 5 es sábado\n",
    "saturday_trips_clean = df_clean[df_clean['day_of_week'] == 5]\n",
    "\n",
    "# Separando los viajes por condición climática en df_clean antes de filtrar outliers\n",
    "good_weather_trips_clean = saturday_trips_clean[saturday_trips_clean['weather_conditions'] == \"Good\"]['duration_seconds']\n",
    "bad_weather_trips_clean = saturday_trips_clean[saturday_trips_clean['weather_conditions'] == \"Bad\"]['duration_seconds']\n",
    "\n",
    "# Función para calcular los límites para identificar outliers\n",
    "def remove_outliers(data):\n",
    "    Q1 = data.quantile(0.25)\n",
    "    Q3 = data.quantile(0.75)\n",
    "    IQR = Q3 - Q1\n",
    "    lower_bound = Q1 - 1.5 * IQR\n",
    "    upper_bound = Q3 + 1.5 * IQR\n",
    "    return data[(data >= lower_bound) & (data <= upper_bound)]\n",
    "\n",
    "# Aplicando la función para filtrar outliers en ambos conjuntos de datos\n",
    "filtered_good_weather_trips = remove_outliers(good_weather_trips_clean)\n",
    "filtered_bad_weather_trips = remove_outliers(bad_weather_trips_clean)\n",
    "\n",
    "# Ahora realizamos la prueba de Levene para evaluar la igualdad de varianzas en los conjuntos de datos filtrados\n",
    "levene_stat_filtered, levene_p_filtered = levene(filtered_good_weather_trips, filtered_bad_weather_trips)\n",
    "\n",
    "# Imprimimos el resultado de la prueba de Levene para los conjuntos de datos filtrados\n",
    "print(f\"Levene's test statistic (filtered): {levene_stat_filtered}, P-value: {levene_p_filtered}\")\n",
    "\n",
    "# Ajustamos el parámetro equal_var basado en el resultado de la prueba de Levene para los conjuntos de datos filtrados\n",
    "equal_var_filtered = levene_p_filtered > 0.05\n",
    "\n",
    "# Realizamos la prueba t para muestras independientes con el parámetro equal_var ajustado en los conjuntos de datos filtrados\n",
    "t_stat_filtered, p_value_filtered = ttest_ind(filtered_good_weather_trips, filtered_bad_weather_trips, equal_var=equal_var_filtered)\n",
    "\n",
    "# Imprimimos el resultado de la prueba t para los conjuntos de datos filtrados\n",
    "print(f\"T-statistic (filtered): {t_stat_filtered}, P-value: {p_value_filtered}\")"
   ]
  },
  {
   "cell_type": "markdown",
   "metadata": {},
   "source": [
    "##### Planteamiento de las hipótesis nula y alternativa\n",
    "###### Prueba de Levene\n",
    "\n",
    "Estadístico de Levene (filtrado): 0.068\n",
    "Valor p de Levene (filtrado): 0.794\n",
    "La prueba de Levene con los datos filtrados muestra un valor p aún más alto, lo que indica con más fuerza que no hay evidencia suficiente para rechazar la hipótesis nula de igualdad de varianzas entre los grupos de viajes en días de buen y mal tiempo. Esto valida el uso del parámetro equal_var=True en la prueba t de Student, aunque, dada la naturaleza de los datos filtrados, se optó por ajustar este parámetro basándose directamente en el resultado de la prueba de Levene.\n",
    "\n",
    "###### Prueba t de Student\n",
    "\n",
    "Estadístico t (filtrado): -6.037\n",
    "Valor p (filtrado): Aproximadamente 2.34e-09\n",
    "Con los datos filtrados, el valor absoluto del estadístico t ha aumentado ligeramente en comparación con la evaluación previa de los datos no filtrados, y el valor p sigue siendo extremadamente bajo. Esto indica una diferencia estadísticamente significativa en la duración promedio de los viajes bajo diferentes condiciones climáticas, con una mayor certeza que antes de la filtración. El signo negativo del estadístico t refuerza la conclusión de que los viajes en condiciones de \"buen tiempo\" son, en promedio, más cortos que aquellos realizados en \"mal tiempo\".\n",
    "\n",
    "\n",
    "\n"
   ]
  },
  {
   "cell_type": "markdown",
   "metadata": {},
   "source": [
    "##### Criterio utilizado para probar las hipótesis y por qué\n",
    "La aplicación de la prueba de Levene para confirmar la igualdad de varianzas y la prueba t de Student para comparar las medias después de filtrar los outliers ha proporcionado un análisis más preciso y confiable. Estos métodos han sido fundamentales para evaluar la hipótesis de manera rigurosa, teniendo en cuenta la influencia potencial de los outliers.\n",
    "\n",
    "Los resultados filtrados fortalecen nuestra conclusión, sugiriendo con mayor firmeza que las condiciones climáticas afectan significativamente la duración promedio de los viajes desde el Loop hasta el Aeropuerto Internacional O'Hare en sábados."
   ]
  },
  {
   "cell_type": "markdown",
   "metadata": {},
   "source": [
    "\n"
   ]
  },
  {
   "cell_type": "markdown",
   "metadata": {},
   "source": [
    "### Conclusion General"
   ]
  },
  {
   "cell_type": "markdown",
   "metadata": {},
   "source": [
    "##### 1. Preparación y Carga de Datos\n",
    "Carga de datos: Importamos los datos necesarios para el análisis desde una fuente específica, como un archivo CSV, utilizando bibliotecas como pandas.\n",
    "Inspección inicial: Realizamos una inspección preliminar de los datos para entender su estructura, tipos de datos y detectar posibles incongruencias.\n",
    "#### 2. Limpieza y Preprocesamiento de Datos\n",
    "Conversión de tipos de datos: Convertimos la columna start_ts a tipo datetime para facilitar el filtrado por fechas y tiempos.\n",
    "Tratamiento de valores atípicos (outliers): Se aconsejó y discutió la importancia de identificar y tratar los outliers, ya que pueden afectar significativamente los resultados de las pruebas estadísticas.\n",
    "#### 3. Filtrado y Preparación Específica para el Análisis\n",
    "Selección de viajes de sábado: Filtramos los datos para seleccionar solo los viajes que ocurrieron un sábado, basándonos en la columna start_ts.\n",
    "Clasificación según condiciones climáticas: Separamos los viajes en dos grupos según las condiciones climáticas reportadas (\"Good\" y \"Bad\") para comparar sus duraciones.\n",
    "#### 4. Análisis Estadístico\n",
    "Prueba de Levene: Esta prueba fue esencial para confirmar que las varianzas entre los grupos de viajes en días de buen y mal tiempo no difieren significativamente, lo cual justificó el uso del parámetro equal_var=True en la prueba t de Student. La actualización de este resultado con los datos filtrados (Levene's test statistic (filtered): 0.068, P-value: 0.794) refuerza aún más la decisión de proceder con varianzas iguales.\n",
    "\n",
    "Prueba t de Student para muestras independientes: Con los datos depurados de outliers, esta prueba arrojó un Estadístico t (filtrado) de -6.037 y un Valor p (filtrado) de aproximadamente 2.34e-09, lo que indica una diferencia estadísticamente significativa en las duraciones medias de los viajes bajo diferentes condiciones climáticas. Estos resultados confirmaron que las condiciones climáticas tienen un impacto notable en la duración de los viajes.\n",
    "#### 5. Conclusiones del Análisis\n",
    "Efecto de las condiciones climáticas: La investigación reveló que las condiciones climáticas juegan un papel crucial en la duración de los viajes desde el Loop hasta el Aeropuerto Internacional O'Hare en sábados, validando la hipótesis de que los viajes son más cortos en días con buen tiempo.\n",
    "Importancia de tratar con outliers: El tratamiento adecuado de outliers antes de realizar pruebas estadísticas ha sido fundamental para asegurar la precisión de los resultados, evidenciando la importancia de una preparación de datos meticulosa.\n",
    "Decisión basada en la prueba de Levene: Los resultados de la prueba de Levene respaldaron la aplicación de una prueba t con varianzas iguales, destacando la relevancia de verificar los supuestos estadísticos antes de realizar análisis más detallados.\n",
    "\n",
    "#### 6. Reflexiones y Pasos Futuros\n",
    "###### Reflexión sobre el proceso: \n",
    "Este análisis ha subrayado la importancia de la preparación y análisis cuidadosos de los datos, incluyendo la verificación de supuestos estadísticos y el manejo de outliers. La aplicación de estos principios asegura conclusiones más robustas y confiables.\n",
    "###### Pasos Futuros\n",
    "Se recomienda una investigación adicional para explorar otros factores que puedan afectar la duración de los viajes, tales como el tráfico, eventos especiales, y la variabilidad entre diferentes días de la semana o temporadas. Estos análisis podrían ofrecer insights más profundos y aplicables para la optimización de servicios de transporte y la planificación urbana."
   ]
  },
  {
   "cell_type": "code",
   "execution_count": null,
   "metadata": {},
   "outputs": [],
   "source": []
  }
 ],
 "metadata": {
  "kernelspec": {
   "display_name": "Python 3 (ipykernel)",
   "language": "python",
   "name": "python3"
  },
  "language_info": {
   "codemirror_mode": {
    "name": "ipython",
    "version": 3
   },
   "file_extension": ".py",
   "mimetype": "text/x-python",
   "name": "python",
   "nbconvert_exporter": "python",
   "pygments_lexer": "ipython3",
   "version": "3.9.5"
  },
  "toc": {
   "base_numbering": 1,
   "nav_menu": {},
   "number_sections": true,
   "sideBar": true,
   "skip_h1_title": true,
   "title_cell": "Table of Contents",
   "title_sidebar": "Contents",
   "toc_cell": false,
   "toc_position": {
    "height": "calc(100% - 180px)",
    "left": "10px",
    "top": "150px",
    "width": "262px"
   },
   "toc_section_display": true,
   "toc_window_display": true
  }
 },
 "nbformat": 4,
 "nbformat_minor": 2
}
